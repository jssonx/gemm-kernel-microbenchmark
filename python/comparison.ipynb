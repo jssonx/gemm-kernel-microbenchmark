{
 "cells": [
  {
   "cell_type": "code",
   "execution_count": null,
   "metadata": {},
   "outputs": [],
   "source": [
    "from torch import nn\n",
    "import torch\n",
    "import time\n",
    "\n",
    "class SwitchMoE:\n",
    "    def __init__(self):\n",
    "        self.hidden_dim = 4096\n",
    "        self.ffn_dim = 14336\n",
    "\n",
    "switch_moe = SwitchMoE()\n",
    "\n",
    "w1_switch_moe = nn.Linear(switch_moe.hidden_dim, switch_moe.ffn_dim, bias=False).half()\n",
    "batch_size = 32\n",
    "sequence_length = 128\n",
    "hidden_states = torch.randn(batch_size * sequence_length, switch_moe.hidden_dim).half()\n",
    "\n",
    "# Warm-up\n",
    "warmup_iterations = 20\n",
    "for _ in range(warmup_iterations):\n",
    "    _ = w1_switch_moe(hidden_states)\n",
    "\n",
    "# Timing\n",
    "iterations = 30\n",
    "elapsed_time_total = 0\n",
    "for _ in range(iterations):\n",
    "    start_time = time.time()\n",
    "    _ = w1_switch_moe(hidden_states)\n",
    "    end_time = time.time()\n",
    "    elapsed_time = (end_time - start_time) * 1000  # milliseconds\n",
    "    elapsed_time_total += elapsed_time\n",
    "\n",
    "average_time = elapsed_time_total / iterations\n",
    "print(f\"Avg. Time: {average_time} milliseconds\")"
   ]
  },
  {
   "cell_type": "code",
   "execution_count": 3,
   "metadata": {},
   "outputs": [
    {
     "name": "stdout",
     "output_type": "stream",
     "text": [
      "tensor([[-0.0088,  0.0263, -0.0128,  ...,  0.0084, -0.0322, -0.0299],\n",
      "        [ 0.0018,  0.0142,  0.0245,  ..., -0.0066, -0.0212,  0.0041],\n",
      "        [-0.0291,  0.0265, -0.0159,  ...,  0.0051,  0.0205,  0.0087],\n",
      "        ...,\n",
      "        [-0.0198,  0.0128, -0.0299,  ...,  0.0271,  0.0200,  0.0262],\n",
      "        [-0.0259, -0.0343, -0.0319,  ...,  0.0281, -0.0231,  0.0278],\n",
      "        [ 0.0302, -0.0145, -0.0270,  ..., -0.0077,  0.0084, -0.0007]])\n",
      "torch.Size([3072, 768])\n"
     ]
    }
   ],
   "source": [
    "weights_w1_switch_moe = w1_switch_moe.weight.data\n",
    "print(weights_w1_switch_moe)\n",
    "print(weights_w1_switch_moe.shape)  # torch.Size([3072, 768])\n"
   ]
  }
 ],
 "metadata": {
  "kernelspec": {
   "display_name": "deepspeed",
   "language": "python",
   "name": "python3"
  },
  "language_info": {
   "codemirror_mode": {
    "name": "ipython",
    "version": 3
   },
   "file_extension": ".py",
   "mimetype": "text/x-python",
   "name": "python",
   "nbconvert_exporter": "python",
   "pygments_lexer": "ipython3",
   "version": "3.10.13"
  }
 },
 "nbformat": 4,
 "nbformat_minor": 2
}
